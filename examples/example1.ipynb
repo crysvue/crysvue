{
 "cells": [
  {
   "cell_type": "markdown",
   "source": [
    "# Example 1, but in a notebook"
   ],
   "metadata": {
    "collapsed": false
   }
  },
  {
   "cell_type": "code",
   "execution_count": 1,
   "outputs": [],
   "source": [
    "import numpy as np\n",
    "\n",
    "from crysvue import Canvas\n",
    "from crysvue.visual.generic import UnitCell, Atoms"
   ],
   "metadata": {
    "collapsed": false,
    "ExecuteTime": {
     "end_time": "2023-05-30T09:04:49.029598217Z",
     "start_time": "2023-05-30T09:04:48.913228067Z"
    }
   }
  },
  {
   "cell_type": "markdown",
   "source": [
    "## Generate a Unit Cell\n",
    "\n",
    "Unit-cell is 5x5x5 Angstroms, with an alpha angle of 90 degrees"
   ],
   "metadata": {
    "collapsed": false
   }
  },
  {
   "cell_type": "code",
   "execution_count": 2,
   "outputs": [],
   "source": [
    "lattice_matrix = 5 * np.eye(3)\n",
    "unit_cell_visual = UnitCell(lattice_matrix=lattice_matrix)"
   ],
   "metadata": {
    "collapsed": false,
    "ExecuteTime": {
     "end_time": "2023-05-30T09:04:54.266022960Z",
     "start_time": "2023-05-30T09:04:54.227092339Z"
    }
   }
  },
  {
   "cell_type": "markdown",
   "source": [
    "## Generate a set of atoms\n",
    "\n",
    "Atoms are at (0, 0, 0) and (0.5, 0.5, 0.5) with sizes of 0.3 Angstroms. `P1` symmetry is used to generate the atom positions."
   ],
   "metadata": {
    "collapsed": false
   }
  },
  {
   "cell_type": "code",
   "execution_count": 6,
   "outputs": [],
   "source": [
    "lattice_symmetry = 'P 1'\n",
    "\n",
    "atom_positions = np.array([[0.0, 0.0, 0.0],\n",
    "                           [0.5, 0.5, 0.5]])\n",
    "atom_sizes = np.array([0.3, 0.3])\n",
    "atom_colors = np.array([[1.0, 0.0, 0.0],\n",
    "                        [0.0, 0.0, 1.0]])  # Red and Blue\n",
    "\n",
    "atoms_visual = Atoms(positions=atom_positions,\n",
    "                     sizes=atom_sizes,\n",
    "                     colors=atom_colors,\n",
    "                     symmetry_str=lattice_symmetry,\n",
    "                     lattice_matrix=lattice_matrix)"
   ],
   "metadata": {
    "collapsed": false,
    "ExecuteTime": {
     "end_time": "2023-05-30T09:06:55.182222386Z",
     "start_time": "2023-05-30T09:06:55.138018305Z"
    }
   }
  },
  {
   "cell_type": "markdown",
   "source": [
    "## Create a canvas"
   ],
   "metadata": {
    "collapsed": false
   }
  },
  {
   "cell_type": "code",
   "execution_count": 0,
   "outputs": [],
   "source": [
    "canvas = Canvas(display='jupyter')"
   ],
   "metadata": {
    "collapsed": false
   }
  },
  {
   "cell_type": "markdown",
   "source": [
    "### Add the visuals to the canvas"
   ],
   "metadata": {
    "collapsed": false
   }
  },
  {
   "cell_type": "code",
   "execution_count": 4,
   "outputs": [
    {
     "data": {
      "text/plain": "RFBOutputContext()",
      "application/vnd.jupyter.widget-view+json": {
       "version_major": 2,
       "version_minor": 0,
       "model_id": "55c004d94d3740f380a8bda8c48cde23"
      }
     },
     "metadata": {},
     "output_type": "display_data"
    }
   ],
   "source": [
    "canvas.add_visual(unit_cell_visual)\n",
    "canvas.add_visual(atoms_visual)"
   ],
   "metadata": {
    "collapsed": false,
    "ExecuteTime": {
     "end_time": "2023-05-30T09:05:25.968642333Z",
     "start_time": "2023-05-30T09:05:24.230462483Z"
    }
   }
  },
  {
   "cell_type": "markdown",
   "source": [
    "### Show the canvas"
   ],
   "metadata": {
    "collapsed": false
   }
  },
  {
   "cell_type": "code",
   "execution_count": 5,
   "outputs": [
    {
     "data": {
      "text/plain": "CanvasBackend(css_height='400px')",
      "application/vnd.jupyter.widget-view+json": {
       "version_major": 2,
       "version_minor": 0,
       "model_id": "a754f6fd0bc44624b97e6b3fdaebdc4c"
      },
      "text/html": "<div class='snapshot-a754f6fd0bc44624b97e6b3fdaebdc4c' style='position:relative;'><img src='data:image/png;base64,iVBORw0KGgoAAAANSUhEUgAAAfQAAAGQCAYAAABYs5LGAAASfElEQVR42u3d36utCV3H8a3ihff+Fd74L/gHFBgR6EVNYphColCYpDhEYKMhml1EimbSWBhKCpWQv2Uo62bQnBL6pYNJXaQjGsSku+eZ8xzOOXN+fPc++732Pmc9rxd8GXC8mM367M+Htddae5+cAgAPvZOr/g8oPfroo1f9nwDAQ+LYNuOoBn11bA8QAL1j3IqjG/TVMT5QADSOdSOOctBXx/qAAXD/jnkbjnbQV8f8wAFwPse+CUc96KtjfwABmO1hC45+0Fd7eCABuLO9bMAuBn21lwcUgBv21P27GfTVnh5YgL3bW+fvatBXe3uAAfZoj12/u0Ff7fGBBtiLvXb8Lgd9tdcHHOCY7bnbdzvoqz0/8ADHZu+dvutBX+09AADHQJcb9OcIAsDDS4dfY9A3AgHw8NHdNxj0mwgGwMNDZ9/KoD+PgAA8+HT17Qz6HQgKwINLR9+ZQb8LgQF48OjmuzPo9yA4AA8OnXxvBn0gQABXTxfPDPoZCBLA1dHBZ2PQz0igAC6f7j07g34OggVweXTu+Rj0cxIwgMPTtedn0O+DoAEcjo69Pwb9PgkcQE+33j+DfgGCB9DRqRdj0C9IAAEuTpdenEEPCCLA/dOhDYMeEUiA89OdHYMeEkyAs9OZLYN+AGtInXPO3ftoGfSYkALMdGXPoMeEFGCmK3sGPSakADNd2TPoMSEFmOnKnkGPCSnATFf2DHpMSAFmurJn0GNCCjDTlT2DHhNSgJmu7Bn0mJACzHRlz6DHhBRgpit7Bj0mpAAzXdkz6DEhBZjpyp5BjwkpwExX9gx6TEgBZrqyZ9BjQgow05U9gx4TUoCZruwZ9JiQAsx0Zc+gx4QUYKYrewY9JqQAM13ZM+gxIQWY6cqeQY8JKcBMV/YMekxIAWa6smfQY0IKMNOVPYMeE1KAma7sGfSYkALMdGXPoMeEFGCmK3sGPSakADNd2TPoMSEFmOnKnkGPCSnATFf2DHpMSAFmurJn0GNCCjDTlT2DHhNSgJmu7Bn0mJACzHRlz6DHhBRgpit7Bj0mpAAzXdkz6DEhBZjpyp5BjwkpwExX9gx6TEgBZrqyZ9BjQgow05U9gx4TUoCZruwZ9JiQAsx0Zc+gx4QUYKYrewY9JqQAM13ZM+gxIQWY6cqeQY8JKcBMV/YMekxIAWa6smfQY0IKMNOVPYMeE1KAma7sGfSYkALMdGXPoMeEFGCmK3sGPSakADNd2TPoMSEFmOnKnkGPCSnATFf2DHpMSAFmurJn0GNCCjDTlT2DHhNSgJmu7Bn0mJACzHRlz6DHhBRgpit7Bj0mpAAzXdkz6DEhBZjpyp5BjwkpwExX9gx6TEgBZrqyZ9BjQgow05U9gx4TUoCZruwZ9JiQAsx0Zc+gx4QUYKYrewY9JqQAM13ZM+gxIQWY6cqeQY8JKcBMV/YMekxIAWa6smfQY0IKMNOVPYMeE1KAma7sGfSYkALMdGXPoMeEFGCmK3sGPSakADNd2TPoMSEFmOnKnkGPCSnATFf2DHpMSAFmurJn0GNCCjDTlT2DHhNSgJmu7Bn0mJACzHRlz6DHhBRgpit7Bj0mpAAzXdkz6DEhBZjpyp5BjwkpwExX9gx6TEgBZrqyZ9BjQgow05U9gx4TUoCZruwZ9JiQAsx0Zc+gx4QUYKYrewY9JqQAM13ZM+gxIQWY6cqeQY8JKcBMV/YMekxIAWa6smfQY0IKMNOVPYMeE1KAma7sGfSYkALMdGXPoMeEFGCmK3sGPSakADNd2TPoMSEFmOnKnkGPCSnATFf2DHpMSAFmurJn0GNCCjDTlT2DHhNSgJmu7Bn0mJACzHRlz6DHhBRgpit7Bj0mpAAzXdkz6DEhBZjpyp5BjwkpwExX9gx6TEgBZrqyZ9BjQgow05U9gx4TUoCZruwZ9JiQAsx0Zc+gx4QUYKYrewY9JqQAM13ZM+gxIQWY6cqeQY8JKcBMV/YMekxIAWa6smfQY0IKMNOVPYMeE1KAma7sGfSYkALMdGXPoMeEFGCmK3sGPSakADNd2TPoMSEFmOnKnkGPCSnATFf2DHpMSAFmurJn0GNCCjDTlT2DHhNSgJmu7Bn0mJACzHRlz6DHhBRgpit7Bj0mpAAzXdkz6DEhBZjpyp5BjwkpwExX9gx6TEgBZrqyZ9BjQgow05U9gx4TUoCZruwZ9JiQAsx0Zc+gx4QUYKYrewY9JqQAM13ZM+gxIQWY6cqeQY8JKcBMV/YMekxIAWa6smfQY0IKMNOVPYMeE1KAma7sGfSYkALMdGXPoMeEFGCmK3sGPSakADNd2TPoMSEFmOnKnkGPCSnATFf2DHpMSAFmurJn0GNCyoPg5OTJ5Z5e7gfL/WS501sOrpqu7PnWjgkpV+Xk5PHlvrzcU8t9d7kf3Tbkdzq4Crqy59s5JqRctpOTty73x8t9dntm/q3lvr/cj8806Iadq6Are76NY0LKZbo25h9Y7lPLPbE9O/+P5X54rjE36lw2XdnzLRwTUi7Lycnrl3v3ch9d7i+X+9vlvnmuH7cbda6Kruz59o0JKZfh5ORnlnvLcu/bXjv/zHJfvWnQ7+8ZulHnsujKnm/dmJByaCcnP7XcI8u9bbn3L/exbdDXZ+j/uNx37vrudqPOg0JX9nzbxoSUQ7s26K9d7u3L/e72hri/2F5D/4flvr3c95Z79o5D/YIXnJ6+8IUGnaulK3u+bWNCyiFdG/Prg74+Q3/vcn+03KeX+9L2Lvd/We6/lvuf20Z6HfKXvvT09GUvu/bPadjhUHRlz7dsTEg5pBuD/prlfn2531nuQ8t9YvvY2t8v90/bj92fWe7/bhnoF7/49PQVrzg9/cIXTk8fe+zaqBt0roKu7PmWjQkph3Rj0H9+uV9d7p3L/f5yf7LcX20/dv/acv+2PUu/9d3uL3rR6enLX356+rnPXRv19Zn6vZ6lw6Hoyp5v2ZiQcig3xny9Vy33xuUe3V5HX3/s/ufLff6mZ+nrr3797+X+95aRfslLro36+kx9fYa+vqbuWTqXTVf2fLvGhJRDuXXQ14+tvW77xTLvWu4PlvvT7fPoX9leS//n7SNsz9z2Brn1mfr643dvjuOq6Mqeb9eYkHIotw76er+w3JuX+83tWfpHlvvkcn+93N8s9/Xl/nW5/9w+xvbsON4GncuiK3u+XWNCyqHcPug/t9wvb8/SH9teS398e8f7+qP3v1vuG8v9+4VGHQ5BV/Z8u8aElEO5fdCvP0t/03LvWO49y31w+9H7+rn0L26vpz9106g/c9tr6ve+n1z1l82R0pU9gx4TUg7lzoP+s8v90nK/ttxvbT96//ByH99eT//SNurf2H78/t3tjXI/uu0jbXe+H1z1l82R0pU9gx4TUg7lzoO+3quXe8P2o/f1Y2y/t9wfLvdn26h/cfvx+9e3N8o9vX2k7Zntl888e3r7r4n98Tb6T1/1l82R0pU9gx4TUg7l7oP+09vn0n9lud9Y7rdvGvWPbz9+//z2Rrknt4+0rZ9T/8427N/bXl//4Tbi6z+/vz2bf/Kqv2yOlK7sGfSYkHJIdx/1V55e+4Mtb3zeqH94e03909u737+y/Qj+a9uwr78m9tvbuH93u/XvqX/rudfe4VB0Zc+gx4SUQ7r7oF//bPov3jTq79xeU//g9u73T24/gl+frT+xDfv6jH39gy7rX2n75nZPbf/7l6/6y+WI6cqeQY8JKYd070G/PuqPbD9+f+v2Rrn3bB9p+8j2bH39jXLrr4n97PamuXXc1z+9+tXtn09s/+7xq/5yOWK6smfQY0LKoc2j/srtNfU3bO9+f8f2OfX12fr6G+XWXxO7/u73T2w/il9fY//Mdusz+E+drn+SFQ5JV/YMekxIObR50K+/Ue7V20fa3rQ9W19/o9y7tmFfn7F/aBv39e+pf2z7sfxHl/vAc/9/OCRd2TPoMSHlMpxt1K9/Tn395TPrb5R78zbsj26vr69/evW928C/f7n3LfduY86l0JU9gx4TUi7L2Uf9+q+JXYf9ddub5tY/vbr+PfW3Lff27Z9vWe71V/1lsRO6smfQY0LKZTrfqF9/09yrttfYX7Pca7d75Ll/B5dFV/YMekxIuWznH/U7H1wmXdkz6DEh5aoYch4murJn0GNCyoPAiPOg05U9gx4TUoCZruwZ9JiQAsx0Zc+gx4QUYKYrewY9JqQAM13ZM+gxIQWY6cqeQY8JKcBMV/YMekxIAWa6smfQY0IKMNOVPYMeE1KAma7sGfSYkALMdGXPoMeEFGCmK3sGPSakADNd2TPoMSEFmOnKnkGPCSnATFf2DHpMSAFmurJn0GNCCjDTlT2DHhNSgJmu7Bn0mJACzHRlz6DHhBRgpit7Bj0mpAAzXdkz6DEhBZjpyp5BjwkpwExX9gx6TEgBZrqyZ9BjQgow05U9gx4TUoCZruwZ9JiQAsx0Zc+gx4QUYKYrewY9JqQAM13ZM+gxIQWY6cqeQY8JKcBMV/YMekxIAWa6smfQY0IKMNOVPYMeE1KAma7sGfSYkALMdGXPoMeEFGCmK3sGPSakADNd2TPoMSEFmOnKnkGPCSnATFf2DHpMSAFmurJn0GNCCjDTlT2DHhNSgJmu7Bn0mJACzHRlz6DHhBRgpit7Bj0mpAAzXdkz6DEhBZjpyp5BjwkpwExX9gx6TEgBZrqyZ9BjQgow05U9gx4TUoCZruwZ9JiQAsx0Zc+gx4QUYKYrewY9JqQAM13ZM+gxIQWY6cqeQY8JKcBMV/YMekxIAWa6smfQY0IKMNOVPYMeE1KAma7sGfSYkALMdGXPoMeEFGCmK3sGPSakADNd2TPoMSEFmOnKnkGPCSnATFf2DHpMSAFmurJn0GNCCjDTlT2DHhNSgJmu7Bn0mJACzHRlz6DHhBRgpit7Bj0mpAAzXdkz6DEhBZjpyp5BjwkpwExX9gx6TEgBZrqyZ9BjQgow05U9gx4TUoCZruwZ9JiQAsx0Zc+gx4QUYKYrewY9JqQAM13ZM+gxIQWY6cqeQY8JKcBMV/YMekxIAWa6smfQY0IKMNOVPYMeE1KAma7sGfSYkALMdGXPoMeEFGCmK3sGPSakADNd2TPoMSEFmOnKnkGPCSnATFf2DHpMSAFmurJn0GNCCjDTlT2DHhNSgJmu7Bn0mJACzHRlz6DHhBRgpit7Bj0mpAAzXdkz6DEhBZjpyp5BjwkpwExX9gx6TEgBZrqyZ9BjQgow05U9gx4TUoCZruwZ9JiQAsx0Zc+gx4QUYKYrewY9JqQAM13ZM+gxIQWY6cqeQY8JKcBMV/YMekxIAWa6smfQY0IKMNOVPYMeE1KAma7sGfSYkALMdGXPoMeEFGCmK3sGPSakADNd2TPoMSEFmOnKnkGPCSnATFf2DHpMSAFmurJn0GNCCjDTlT2DHhNSgJmu7Bn0mJACzHRlz6DHhBRgpit7Bj0mpAAzXdkz6DEhBZjpyp5BjwkpwExX9gx6TEgBZrqyZ9BjQgow05U9gx4TUoCZruwZ9JiQAsx0Zc+gx4QUYKYrewY9JqQAM13ZM+gxIQWY6cqeQY8JKcBMV/YMekxIAWa6smfQY0IKMNOVPYMeE1KAma7sGfSYkALMdGXPoMeEFGCmK3sGPSakADNd2TPoMSEFmOnKnkGPCSnATFf2DHpMSAFmurJn0GNCCjDTlT2DHhNSgJmu7Bn0mJACzHRlz6DHhBRgpit7Bj0mpAAzXdkz6DEhBZjpyp5BjwkpwExX9gx6TEgBZrqyZ9BjQgow05U9gx4TUoCZruwZ9JiQAsx0Zc+gx4QUYKYrewY9JqQAM13ZM+gxIQWY6cqeQY8JKcBMV/YMemwNqXPOuXsfPYMeElKAs9OZLYMeEUyA89OdHYMeEEiA+6dDGwb9ggQR4OJ06cUZ9AsQQICOTr0Yg36fBA+gp1vvn0G/DwIHcDg69v4Y9HMSNIDD07XnZ9DPQcAALo/OPR+DfkaCBXD5dO/ZGfQzECiAq6ODz8agDwQJ4Orp4plBvwcBAnhw6OR7M+h3ITgADx7dfHcG/Q4EBuDBpaPvzKA/j6AAPPh09e0M+k0EBODhobNvZdA3ggHw8NHdNxj0U4EAeJjp8Gt2P+iCAPDw0+U7H3QBADgee+/03Q763h94gGO0527f5aDv+QEHOHZ77fjdDfpeH2iAPdlj1+9q0Pf4AAPs1d46fzeDvrcHFoB9df8uBn1PDygAt9rLBhz9oO/lgQTg7vawBUc96Ht4AAE4m2PfhKMd9GN/4AA4v2PehqMc9GN+wAC4mGPdiKMb9GN9oADoHONWHNWgH+MDBMBhHNtmHNWgA8Be/T9p3YQvogA0CAAAAABJRU5ErkJggg==' style='width:500.0px;height:400.0px;' /><div style='position: absolute; top:0; left:0; padding:1px 3px; background: #777; color:#fff; font-size: 90%; font-family:sans-serif; '>snapshot</div></div>"
     },
     "execution_count": 5,
     "metadata": {},
     "output_type": "execute_result"
    }
   ],
   "source": [
    "canvas.run()"
   ],
   "metadata": {
    "collapsed": false,
    "ExecuteTime": {
     "end_time": "2023-05-30T09:05:27.516012011Z",
     "start_time": "2023-05-30T09:05:27.333381341Z"
    }
   }
  },
  {
   "cell_type": "code",
   "execution_count": null,
   "outputs": [],
   "source": [],
   "metadata": {
    "collapsed": false
   }
  }
 ],
 "metadata": {
  "kernelspec": {
   "display_name": "Python 3",
   "language": "python",
   "name": "python3"
  },
  "language_info": {
   "codemirror_mode": {
    "name": "ipython",
    "version": 2
   },
   "file_extension": ".py",
   "mimetype": "text/x-python",
   "name": "python",
   "nbconvert_exporter": "python",
   "pygments_lexer": "ipython2",
   "version": "2.7.6"
  }
 },
 "nbformat": 4,
 "nbformat_minor": 0
}
